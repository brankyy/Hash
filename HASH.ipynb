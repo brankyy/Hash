{
 "cells": [
  {
   "cell_type": "code",
   "execution_count": 60,
   "metadata": {},
   "outputs": [],
   "source": [
    "import os\n",
    "import torch\n",
    "import torchvision\n",
    "import torch.nn as nn\n",
    "import torchvision.models as models\n",
    "from torchvision import transforms\n",
    "from torchvision.utils import save_image\n",
    "from torch.autograd import Variable\n",
    "import matplotlib.pyplot as plt\n",
    "import pylab\n",
    "import numpy as np\n",
    "from PIL import Image\n",
    "\n",
    "\n",
    "num_gpu = 1 if torch.cuda.is_available() else 0\n",
    "\n",
    "# load the models\n",
    "from dcgan import Generator, Alexnet\n",
    "#from models import alexnet\n",
    "G = Generator(ngpu=1).eval()\n",
    "alexnet = Alexnet()\n",
    "# load weights\n",
    "G.load_state_dict(torch.load('netG_epoch_199.pth'))\n",
    "if torch.cuda.is_available():\n",
    "    G = G.cuda()"
   ]
  },
  {
   "cell_type": "code",
   "execution_count": 61,
   "metadata": {},
   "outputs": [
    {
     "name": "stdout",
     "output_type": "stream",
     "text": [
      "torch.Size([1, 3, 32, 32])\n",
      "torch.Size([1, 64, 55, 55])\n",
      "torch.Size([1, 192, 27, 27])\n",
      "torch.Size([1, 384, 13, 13])\n",
      "torch.Size([1, 256, 13, 13])\n",
      "torch.Size([1, 256, 13, 13])\n"
     ]
    }
   ],
   "source": [
    "batch_size = 1\n",
    "latent_size = 100\n",
    "#print(G)\n",
    "#print(alexnet)\n",
    "\n",
    "# for parameters in alexnet.parameters():\n",
    "#     print(parameters)\n",
    "fixed_noise = torch.randn(batch_size, latent_size, 1, 1)\n",
    "#print(fixed_noise.shape)\n",
    "if torch.cuda.is_available():\n",
    "    fixed_noise = fixed_noise.cuda()\n",
    "fake_images = G(fixed_noise)\n",
    "\n",
    "transform = transforms.Compose(\n",
    "    [transforms.Resize(256),\n",
    "     transforms.CenterCrop(224),\n",
    "     transforms.ToTensor(),\n",
    "     transforms.Normalize((0.485, 0.456, 0.406), (0.229, 0.224, 0.225))])\n",
    "\n",
    "print(fake_images.shape)\n",
    "\n",
    "save_image(fake_images.detach(),'test.png',normalize=True)\n",
    "\n",
    "im = Image.open('test.png')\n",
    "#im.show()\n",
    "im_t = transform(im)\n",
    "batch_t = torch.unsqueeze(im_t, 0)\n",
    "alexnet.eval()\n",
    "out = alexnet(batch_t)\n",
    "\n",
    "for i in range(5):\n",
    "    print(out[i].shape)\n",
    "\n",
    "\n",
    "#print(im.shape)\n",
    "#print(im)\n"
   ]
  },
  {
   "cell_type": "code",
   "execution_count": null,
   "metadata": {},
   "outputs": [],
   "source": []
  },
  {
   "cell_type": "code",
   "execution_count": null,
   "metadata": {},
   "outputs": [],
   "source": []
  }
 ],
 "metadata": {
  "kernelspec": {
   "display_name": "Python 3",
   "language": "python",
   "name": "python3"
  },
  "language_info": {
   "codemirror_mode": {
    "name": "ipython",
    "version": 3
   },
   "file_extension": ".py",
   "mimetype": "text/x-python",
   "name": "python",
   "nbconvert_exporter": "python",
   "pygments_lexer": "ipython3",
   "version": "3.5.2"
  }
 },
 "nbformat": 4,
 "nbformat_minor": 4
}
